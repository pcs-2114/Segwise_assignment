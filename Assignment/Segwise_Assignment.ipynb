{
  "nbformat": 4,
  "nbformat_minor": 0,
  "metadata": {
    "colab": {
      "provenance": []
    },
    "kernelspec": {
      "name": "python3",
      "display_name": "Python 3"
    },
    "language_info": {
      "name": "python"
    }
  },
  "cells": [
    {
      "cell_type": "code",
      "execution_count": null,
      "metadata": {
        "id": "ZuaeCsOEd2DZ"
      },
      "outputs": [],
      "source": [
        "!pip install pyspark\n",
        "!pip install -U -q PyDrive\n",
        "!apt install openjdk-8-jdk-headless -qq\n",
        "import os\n",
        "os.environ[\"JAVA_HOME\"] = \"/usr/lib/jvm/java-8-openjdk-amd64\""
      ]
    },
    {
      "cell_type": "code",
      "source": [
        "import pyspark\n",
        "import pyspark.sql  as pyspark_sql\n",
        "import pyspark.sql.types as pyspark_types\n",
        "from pyspark import SparkContext, SparkConf\n",
        "from pyspark.sql.functions import *\n",
        "\n"
      ],
      "metadata": {
        "id": "ywblr8S-d4Pe"
      },
      "execution_count": 2,
      "outputs": []
    },
    {
      "cell_type": "code",
      "source": [
        "# create the session\n",
        "conf = SparkConf()\n",
        "\n",
        "# create the context\n",
        "sc = pyspark.SparkContext(conf=conf)\n",
        "spark = pyspark_sql.SparkSession.builder.getOrCreate()"
      ],
      "metadata": {
        "id": "AnavaHFWd7Ob"
      },
      "execution_count": 3,
      "outputs": []
    },
    {
      "cell_type": "code",
      "source": [
        "# from google.colab import drive\n",
        "# drive.mount('/content/drive/')"
      ],
      "metadata": {
        "colab": {
          "base_uri": "https://localhost:8080/"
        },
        "id": "_peJeLd5d8FN",
        "outputId": "66021385-c49c-416f-e29e-279bb5603cc1"
      },
      "execution_count": 5,
      "outputs": [
        {
          "output_type": "stream",
          "name": "stdout",
          "text": [
            "Mounted at /content/drive/\n"
          ]
        }
      ]
    },
    {
      "cell_type": "code",
      "source": [
        "df_full=spark.read.format(\"csv\").option(\"header\",True).option(\"inferSchema\",True).option(\"multiLine\",True).option(\"escapeQuotes\",True).option(\"escape\", \"\\\"\").load(\"playstore.csv\")"
      ],
      "metadata": {
        "id": "7ihUqmilvVSA"
      },
      "execution_count": null,
      "outputs": []
    },
    {
      "cell_type": "code",
      "source": [
        "df_full.orderBy(\"_c0\",ascending=False).show()"
      ],
      "metadata": {
        "id": "VoIXbhgKflYj"
      },
      "execution_count": null,
      "outputs": []
    },
    {
      "cell_type": "code",
      "source": [
        "df_full.printSchema()"
      ],
      "metadata": {
        "id": "gRn81-1N-wNg"
      },
      "execution_count": null,
      "outputs": []
    },
    {
      "cell_type": "code",
      "source": [
        "df=df_full"
      ],
      "metadata": {
        "id": "AtoSbMMb_dtr"
      },
      "execution_count": 169,
      "outputs": []
    },
    {
      "cell_type": "code",
      "source": [
        "# Calculate total volume\n",
        "total_volume = df.count()\n",
        "print(total_volume)"
      ],
      "metadata": {
        "colab": {
          "base_uri": "https://localhost:8080/"
        },
        "id": "AHaEUdUyOzQc",
        "outputId": "24384501-dc17-43e0-c9c0-26767f3435ab"
      },
      "execution_count": 59,
      "outputs": [
        {
          "output_type": "stream",
          "name": "stdout",
          "text": [
            "3451063\n"
          ]
        }
      ]
    },
    {
      "cell_type": "code",
      "source": [
        "# Binning function for numerical fields\n",
        "def bin_numerical_field(field, bin_size):\n",
        "    return expr(f\"floor({field}/{bin_size})*{bin_size}\")"
      ],
      "metadata": {
        "id": "WBmORFyf_dpT"
      },
      "execution_count": 122,
      "outputs": []
    },
    {
      "cell_type": "code",
      "source": [
        "def calculate_bin_size(df, numerical_field, num_of_bins = 10):\n",
        "    # Find the range of values in the numerical field\n",
        "    max_value = df.agg(ceil(max(col(numerical_field).cast('int'))).alias(\"max_val\")).head().asDict()['max_val']\n",
        "    min_value = df.agg(floor(min(col(numerical_field).cast('int'))).alias(\"min_val\")).head().asDict()['min_val']\n",
        "\n",
        "    # Calculate the bin size\n",
        "    bin_size = (max_value - min_value) // num_of_bins\n",
        "    # df.withColumn(\"x\", bin_numerical_field(\"releasedYear\", 2)).groupBy(\"x\").agg(count(\"appId\").alias(\"count\")).where(col(\"count\")<=20).show()\n",
        "    if bin_size>0:\n",
        "      bin_size=bin_size\n",
        "    else:\n",
        "      bin_size=1\n",
        "    return bin_size"
      ],
      "metadata": {
        "id": "je0hoyN7jp3D"
      },
      "execution_count": 155,
      "outputs": []
    },
    {
      "cell_type": "code",
      "source": [
        "bin_dict={}\n",
        "bin_dict[\"minInstalls\"] = calculate_bin_size(df, \"minInstalls\")\n",
        "bin_dict[\"price\"] = calculate_bin_size(df, \"price\")\n",
        "bin_dict[\"ratings\"] = calculate_bin_size(df, \"ratings\")\n",
        "bin_dict[\"reviews\"] = calculate_bin_size(df, \"reviews\")\n",
        "bin_dict[\"score\"] = calculate_bin_size(df, \"score\")\n",
        "bin_dict[\"releasedYear\"] = calculate_bin_size(df, \"releasedYear\",5)\n",
        "bin_dict[\"maxprice\"] = calculate_bin_size(df, \"maxprice\")"
      ],
      "metadata": {
        "colab": {
          "base_uri": "https://localhost:8080/"
        },
        "id": "cYdOxyC7j0io",
        "outputId": "b01086c5-cb44-4f70-a510-16b3cd07622e"
      },
      "execution_count": 197,
      "outputs": [
        {
          "output_type": "stream",
          "name": "stdout",
          "text": [
            "minInstalls 1410065408 0 10\n",
            "price 1100 0 10\n",
            "ratings 166417449 0 10\n",
            "reviews 4394018 0 10\n",
            "score 5 0 10\n",
            "releasedYear 2022 2009 5\n",
            "maxprice 1024 0 10\n",
            "{'minInstalls': 141006540, 'price': 110, 'ratings': 16641744, 'reviews': 439401, 'score': 1, 'releasedYear': 2, 'maxprice': 102}\n"
          ]
        }
      ]
    },
    {
      "cell_type": "code",
      "source": [
        "# df.withColumn(\"x\", bin_numerical_field(\"minInstalls\", 141006540)).withColumn('y',col(\"x\")+1).withColumn(\"z\",concat_ws(\"-\",col(\"x\"),col(\"y\"))).show()"
      ],
      "metadata": {
        "id": "cxUlBXyMxMSo"
      },
      "execution_count": 198,
      "outputs": []
    },
    {
      "cell_type": "code",
      "source": [
        "df_test = df\n",
        "for i in bin_dict.keys():\n",
        "  df_test = df_test.withColumn(i+\"x\", bin_numerical_field(i, bin_dict[i])).withColumn(i+'y',col(i+\"x\")+bin_dict[i]).withColumn(i,concat(lit(\"[\"),col(i+\"x\"),lit(\"-\"),col(i+\"y\"),lit(\"]\")))\n",
        "df_binned = df_test.select(\"appId\",\"sale\", \"free\", \"genre\", \"minInstalls\", \"offersIAP\", \"price\",  \"ratings\",\"adSupported\", \"containsAds\", \"reviews\", \"score\",\"releasedYear\")"
      ],
      "metadata": {
        "id": "fektG5x5pv9_"
      },
      "execution_count": 199,
      "outputs": []
    },
    {
      "cell_type": "code",
      "source": [
        "\n",
        "# Calculate counts for various combinations\n",
        "result = (\n",
        "    df_binned.groupBy(\"sale\", \"free\", \"genre\", \"minInstalls\", \"offersIAP\", \"price\",  \"ratings\",\"adSupported\", \"containsAds\", \"reviews\", \"score\",\"releasedYear\")\n",
        "    .agg(count(\"appId\").alias(\"count\"))\n",
        ")"
      ],
      "metadata": {
        "id": "HlGPiH5Lt4l-"
      },
      "execution_count": 200,
      "outputs": []
    },
    {
      "cell_type": "code",
      "source": [
        "result.orderBy('count',ascending=False).show()"
      ],
      "metadata": {
        "colab": {
          "base_uri": "https://localhost:8080/"
        },
        "id": "it0UqFk0vNxl",
        "outputId": "2a2c08a5-c97f-48df-a05f-da5cb41a5582"
      },
      "execution_count": 201,
      "outputs": [
        {
          "output_type": "stream",
          "name": "stdout",
          "text": [
            "+----+----+-----------------+-------------+---------+-------+------------+-----------+-----------+----------+-----+------------+------+\n",
            "|sale|free|            genre|  minInstalls|offersIAP|  price|     ratings|adSupported|containsAds|   reviews|score|releasedYear| count|\n",
            "+----+----+-----------------+-------------+---------+-------+------------+-----------+-----------+----------+-----+------------+------+\n",
            "|   0|   1|        Education|[0-141006540]|        0|[0-110]|[0-16641744]|          0|          0|[0-439401]|[0-1]| [2020-2022]|105607|\n",
            "|   0|   1|         Business|[0-141006540]|        0|[0-110]|[0-16641744]|          0|          0|[0-439401]|[0-1]| [2020-2022]| 90961|\n",
            "|   0|   1|         Shopping|[0-141006540]|        0|[0-110]|[0-16641744]|          0|          0|[0-439401]|[0-1]| [2020-2022]| 74014|\n",
            "|   0|   1|    Music & Audio|[0-141006540]|        0|[0-110]|[0-16641744]|          1|          1|[0-439401]|[0-1]| [2020-2022]| 63625|\n",
            "|   0|   1|         Business|[0-141006540]|        0|[0-110]|[0-16641744]|          0|          0|[0-439401]|[0-1]| [2018-2020]| 63003|\n",
            "|   0|   1|        Education|[0-141006540]|        0|[0-110]|[0-16641744]|          0|          0|[0-439401]|[0-1]| [2018-2020]| 51273|\n",
            "|   0|   1|            Tools|[0-141006540]|        0|[0-110]|[0-16641744]|          0|          0|[0-439401]|[0-1]| [2020-2022]| 49981|\n",
            "|   0|   1|    Entertainment|[0-141006540]|        0|[0-110]|[0-16641744]|          1|          1|[0-439401]|[0-1]| [2020-2022]| 49617|\n",
            "|   0|   1|     Productivity|[0-141006540]|        0|[0-110]|[0-16641744]|          0|          0|[0-439401]|[0-1]| [2020-2022]| 49295|\n",
            "|   0|   1|        Education|[0-141006540]|        0|[0-110]|[0-16641744]|          1|          1|[0-439401]|[0-1]| [2020-2022]| 48780|\n",
            "|   0|   1|     Food & Drink|[0-141006540]|        0|[0-110]|[0-16641744]|          0|          0|[0-439401]|[0-1]| [2020-2022]| 41591|\n",
            "|   0|   1|        Lifestyle|[0-141006540]|        0|[0-110]|[0-16641744]|          0|          0|[0-439401]|[0-1]| [2020-2022]| 38109|\n",
            "|   0|   1|    Music & Audio|[0-141006540]|        0|[0-110]|[0-16641744]|          1|          1|[0-439401]|[0-1]| [2022-2024]| 36935|\n",
            "|   0|   1|Books & Reference|[0-141006540]|        0|[0-110]|[0-16641744]|          1|          1|[0-439401]|[0-1]| [2020-2022]| 35900|\n",
            "|   0|   1|    Entertainment|[0-141006540]|        0|[0-110]|[0-16641744]|          1|          1|[0-439401]|[0-1]| [2022-2024]| 33787|\n",
            "|   0|   1|        Education|[0-141006540]|        0|[0-110]|[0-16641744]|          0|          0|[0-439401]|[0-1]| [2022-2024]| 33621|\n",
            "|   0|   1|    Music & Audio|[0-141006540]|        0|[0-110]|[0-16641744]|          1|          1|[0-439401]|[0-1]| [2018-2020]| 33301|\n",
            "|   0|   1|            Tools|[0-141006540]|        0|[0-110]|[0-16641744]|          0|          0|[0-439401]|[0-1]| [2018-2020]| 31423|\n",
            "|   0|   1|          Finance|[0-141006540]|        0|[0-110]|[0-16641744]|          0|          0|[0-439401]|[0-1]| [2020-2022]| 29669|\n",
            "|   0|   1|     Food & Drink|[0-141006540]|        0|[0-110]|[0-16641744]|          0|          0|[0-439401]|[0-1]| [2018-2020]| 29333|\n",
            "+----+----+-----------------+-------------+---------+-------+------------+-----------+-----------+----------+-----+------------+------+\n",
            "only showing top 20 rows\n",
            "\n"
          ]
        }
      ]
    },
    {
      "cell_type": "code",
      "source": [
        "result.count()"
      ],
      "metadata": {
        "colab": {
          "base_uri": "https://localhost:8080/"
        },
        "id": "zSpXnSgF2nAI",
        "outputId": "a8615ab5-c6da-4497-9e17-d18b23169b7f"
      },
      "execution_count": 204,
      "outputs": [
        {
          "output_type": "execute_result",
          "data": {
            "text/plain": [
              "10081"
            ]
          },
          "metadata": {},
          "execution_count": 204
        }
      ]
    },
    {
      "cell_type": "code",
      "source": [
        "# # Filter out combinations smaller than 2% of the total volume\n",
        "# result_filtered = result.filter(col(\"count\") / total_volume >= 0.02)\n",
        "# result_filtered.count()"
      ],
      "metadata": {
        "id": "ZqS-FmR0u3Yf"
      },
      "execution_count": null,
      "outputs": []
    },
    {
      "cell_type": "code",
      "source": [
        "interim_result = result\n",
        "for i in result.columns:\n",
        "  if i != 'count':\n",
        "    interim_result=interim_result.withColumn(i,concat(lit(i),lit(':'),col(i)))\n",
        "interim_result.show()"
      ],
      "metadata": {
        "colab": {
          "base_uri": "https://localhost:8080/"
        },
        "id": "AeneuXFVvFmB",
        "outputId": "97b0ee32-42ed-4127-91de-03496d7a682e"
      },
      "execution_count": 209,
      "outputs": [
        {
          "output_type": "stream",
          "name": "stdout",
          "text": [
            "+------+------+--------------------+--------------------+-----------+-------------+--------------------+-------------+-------------+------------------+-----------+--------------------+-----+\n",
            "|  sale|  free|               genre|         minInstalls|  offersIAP|        price|             ratings|  adSupported|  containsAds|           reviews|      score|        releasedYear|count|\n",
            "+------+------+--------------------+--------------------+-----------+-------------+--------------------+-------------+-------------+------------------+-----------+--------------------+-----+\n",
            "|sale:0|free:1|genre:Auto & Vehi...|minInstalls:[0-14...|offersIAP:0|price:[0-110]|ratings:[0-16641744]|adSupported:1|containsAds:1|reviews:[0-439401]|score:[2-3]|releasedYear:[201...|   17|\n",
            "|sale:0|free:1|      genre:Business|minInstalls:[0-14...|offersIAP:1|price:[0-110]|ratings:[0-16641744]|adSupported:1|containsAds:1|reviews:[0-439401]|score:[3-4]|releasedYear:[201...|   32|\n",
            "|sale:0|free:1|  genre:Productivity|minInstalls:[0-14...|offersIAP:1|price:[0-110]|ratings:[0-16641744]|adSupported:1|containsAds:1|reviews:[0-439401]|score:[0-1]|releasedYear:[202...|  813|\n",
            "|sale:0|free:1|        genre:Action|minInstalls:[0-14...|offersIAP:0|price:[0-110]|ratings:[0-16641744]|adSupported:1|containsAds:1|reviews:[0-439401]|score:[3-4]|releasedYear:[201...|  313|\n",
            "|sale:0|free:1|         genre:Board|minInstalls:[0-14...|offersIAP:1|price:[0-110]|ratings:[0-16641744]|adSupported:1|containsAds:1|reviews:[0-439401]|score:[0-1]|releasedYear:[202...|  536|\n",
            "|sale:0|free:1|        genre:Casino|minInstalls:[0-14...|offersIAP:0|price:[0-110]|ratings:[0-16641744]|adSupported:0|containsAds:0|reviews:[0-439401]|score:[4-5]|releasedYear:[202...|   25|\n",
            "|sale:0|free:1|genre:Health & Fi...|minInstalls:[0-14...|offersIAP:0|price:[0-110]|ratings:[0-16641744]|adSupported:0|containsAds:0|reviews:[0-439401]|score:[3-4]|releasedYear:[202...|   28|\n",
            "|sale:0|free:1|     genre:Lifestyle|minInstalls:[0-14...|offersIAP:0|price:[0-110]|ratings:[0-16641744]|adSupported:1|containsAds:1|reviews:[0-439401]|score:[2-3]|releasedYear:[201...|  121|\n",
            "|sale:0|free:1|genre:Maps & Navi...|minInstalls:[0-14...|offersIAP:0|price:[0-110]|ratings:[0-16641744]|adSupported:1|containsAds:1|reviews:[0-439401]|score:[3-4]|releasedYear:[201...|   52|\n",
            "|sale:0|free:1|genre:Maps & Navi...|minInstalls:[0-14...|offersIAP:0|price:[0-110]|ratings:[0-16641744]|adSupported:1|containsAds:1|reviews:[0-439401]|score:[0-1]|releasedYear:[201...|  131|\n",
            "|sale:0|free:1|genre:Personaliza...|minInstalls:[0-14...|offersIAP:1|price:[0-110]|ratings:[0-16641744]|adSupported:1|containsAds:1|reviews:[0-439401]|score:[0-1]|releasedYear:[202...|  286|\n",
            "|sale:0|free:0|   genre:Photography|minInstalls:[0-14...|offersIAP:0|price:[0-110]|ratings:[0-16641744]|adSupported:0|containsAds:0|reviews:[0-439401]|score:[0-1]|releasedYear:[201...|  105|\n",
            "|sale:0|free:1|        genre:Social|minInstalls:[0-14...|offersIAP:0|price:[0-110]|ratings:[0-16641744]|adSupported:0|containsAds:0|reviews:[0-439401]|score:[5-6]|releasedYear:[202...|  118|\n",
            "|sale:0|free:1|        genre:Social|minInstalls:[0-14...|offersIAP:0|price:[0-110]|ratings:[0-16641744]|adSupported:0|containsAds:0|reviews:[0-439401]|score:[3-4]|releasedYear:[202...|   27|\n",
            "|sale:0|free:0|genre:Travel & Local|minInstalls:[0-14...|offersIAP:0|price:[0-110]|ratings:[0-16641744]|adSupported:0|containsAds:0|reviews:[0-439401]|score:[0-1]|releasedYear:[201...|   55|\n",
            "|sale:0|free:1|      genre:Business|minInstalls:[0-14...|offersIAP:0|price:[0-110]|ratings:[0-16641744]|adSupported:0|containsAds:0|reviews:[0-439401]|score:[1-2]|releasedYear:[201...|   35|\n",
            "|sale:0|free:1|        genre:Dating|minInstalls:[0-14...|offersIAP:1|price:[0-110]|ratings:[0-16641744]|adSupported:1|containsAds:1|reviews:[0-439401]|score:[5-6]|releasedYear:[202...|   10|\n",
            "|sale:0|free:1|   genre:Educational|minInstalls:[0-14...|offersIAP:1|price:[0-110]|ratings:[0-16641744]|adSupported:1|containsAds:1|reviews:[0-439401]|score:[4-5]|releasedYear:[201...|   51|\n",
            "|sale:0|free:1|     genre:Education|minInstalls:[0-14...|offersIAP:1|price:[0-110]|ratings:[0-16641744]|adSupported:0|containsAds:0|reviews:[0-439401]|score:[5-6]|releasedYear:[201...|    1|\n",
            "|sale:0|free:1|     genre:Education|minInstalls:[0-14...|offersIAP:1|price:[0-110]|ratings:[0-16641744]|adSupported:1|containsAds:1|reviews:[0-439401]|score:[1-2]|releasedYear:[201...|    1|\n",
            "+------+------+--------------------+--------------------+-----------+-------------+--------------------+-------------+-------------+------------------+-----------+--------------------+-----+\n",
            "only showing top 20 rows\n",
            "\n"
          ]
        }
      ]
    },
    {
      "cell_type": "code",
      "source": [
        "# Convert the result to a CSV string\n",
        "result_csv = (\n",
        "    interim_result.withColumn(\"name\", concat_ws(\"; \",\"sale\", \"free\", \"genre\", \"minInstalls\", \"offersIAP\", \"price\",  \"ratings\",\n",
        "                                        \"adSupported\", \"containsAds\", \"reviews\", \"score\",\"releasedYear\")).select(\"name\",\"count\")\n",
        ")"
      ],
      "metadata": {
        "id": "tpDX9oFPvCvx"
      },
      "execution_count": 210,
      "outputs": []
    },
    {
      "cell_type": "code",
      "source": [
        "result_csv.orderBy(count).show()"
      ],
      "metadata": {
        "colab": {
          "base_uri": "https://localhost:8080/"
        },
        "id": "nGHG02Rc4dMV",
        "outputId": "8887f800-57d4-49dd-d3c5-5c5a5ecd78ad"
      },
      "execution_count": 211,
      "outputs": [
        {
          "output_type": "stream",
          "name": "stdout",
          "text": [
            "+--------------------+-----+\n",
            "|                name|count|\n",
            "+--------------------+-----+\n",
            "|sale:0; free:1; g...|   17|\n",
            "|sale:0; free:1; g...|   32|\n",
            "|sale:0; free:1; g...|  813|\n",
            "|sale:0; free:1; g...|  313|\n",
            "|sale:0; free:1; g...|  536|\n",
            "|sale:0; free:1; g...|   25|\n",
            "|sale:0; free:1; g...|   28|\n",
            "|sale:0; free:1; g...|  121|\n",
            "|sale:0; free:1; g...|   52|\n",
            "|sale:0; free:1; g...|  131|\n",
            "|sale:0; free:1; g...|  286|\n",
            "|sale:0; free:0; g...|  105|\n",
            "|sale:0; free:1; g...|  118|\n",
            "|sale:0; free:1; g...|   27|\n",
            "|sale:0; free:0; g...|   55|\n",
            "|sale:0; free:1; g...|   35|\n",
            "|sale:0; free:1; g...|   10|\n",
            "|sale:0; free:1; g...|   51|\n",
            "|sale:0; free:1; g...|    1|\n",
            "|sale:0; free:1; g...|    1|\n",
            "+--------------------+-----+\n",
            "only showing top 20 rows\n",
            "\n"
          ]
        }
      ]
    },
    {
      "cell_type": "code",
      "source": [
        "result_csv.write.format(\"csv\").option(\"header\",True).option(\"multiLine\",True).save(\"results.csv\")"
      ],
      "metadata": {
        "id": "KuEmP0oE4iuy"
      },
      "execution_count": 212,
      "outputs": []
    },
    {
      "cell_type": "code",
      "source": [
        "# Stop the Spark session\n",
        "spark.stop()"
      ],
      "metadata": {
        "id": "f5swNBfreB17"
      },
      "execution_count": 213,
      "outputs": []
    }
  ]
}